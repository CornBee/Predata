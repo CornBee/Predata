{
 "cells": [
  {
   "cell_type": "code",
   "execution_count": 1,
   "id": "e0288429",
   "metadata": {},
   "outputs": [],
   "source": [
    "import pandas as pd\n",
    "import numpy as np\n",
    "import os"
   ]
  },
  {
   "cell_type": "code",
   "execution_count": 2,
   "id": "1ed457af",
   "metadata": {},
   "outputs": [],
   "source": [
    "df = pd.read_csv('data/HOME_전력거래_정산단가_연료원별.csv', encoding = 'cp949')"
   ]
  },
  {
   "cell_type": "code",
   "execution_count": 3,
   "id": "64179b71",
   "metadata": {
    "scrolled": false
   },
   "outputs": [
    {
     "data": {
      "text/html": [
       "<div>\n",
       "<style scoped>\n",
       "    .dataframe tbody tr th:only-of-type {\n",
       "        vertical-align: middle;\n",
       "    }\n",
       "\n",
       "    .dataframe tbody tr th {\n",
       "        vertical-align: top;\n",
       "    }\n",
       "\n",
       "    .dataframe thead th {\n",
       "        text-align: right;\n",
       "    }\n",
       "</style>\n",
       "<table border=\"1\" class=\"dataframe\">\n",
       "  <thead>\n",
       "    <tr style=\"text-align: right;\">\n",
       "      <th></th>\n",
       "      <th>기간</th>\n",
       "      <th>지역</th>\n",
       "      <th>원자력</th>\n",
       "      <th>유연탄</th>\n",
       "      <th>무연탄</th>\n",
       "      <th>유류</th>\n",
       "      <th>LNG</th>\n",
       "      <th>양수</th>\n",
       "      <th>신재생</th>\n",
       "      <th>Unnamed: 9</th>\n",
       "      <th>Unnamed: 10</th>\n",
       "      <th>Unnamed: 11</th>\n",
       "      <th>Unnamed: 12</th>\n",
       "      <th>Unnamed: 13</th>\n",
       "      <th>Unnamed: 14</th>\n",
       "      <th>Unnamed: 15</th>\n",
       "      <th>기타</th>\n",
       "      <th>합계</th>\n",
       "    </tr>\n",
       "  </thead>\n",
       "  <tbody>\n",
       "    <tr>\n",
       "      <th>0</th>\n",
       "      <td>NaN</td>\n",
       "      <td>NaN</td>\n",
       "      <td>NaN</td>\n",
       "      <td>NaN</td>\n",
       "      <td>NaN</td>\n",
       "      <td>NaN</td>\n",
       "      <td>NaN</td>\n",
       "      <td>NaN</td>\n",
       "      <td>연료전지</td>\n",
       "      <td>석탄가스화</td>\n",
       "      <td>태양</td>\n",
       "      <td>풍력</td>\n",
       "      <td>수력</td>\n",
       "      <td>해양</td>\n",
       "      <td>바이오</td>\n",
       "      <td>폐기물</td>\n",
       "      <td>NaN</td>\n",
       "      <td>NaN</td>\n",
       "    </tr>\n",
       "    <tr>\n",
       "      <th>1</th>\n",
       "      <td>2021/09</td>\n",
       "      <td>합계</td>\n",
       "      <td>32.740077</td>\n",
       "      <td>94.728006</td>\n",
       "      <td>115.703868</td>\n",
       "      <td>213.888207</td>\n",
       "      <td>125.427094</td>\n",
       "      <td>130.291434</td>\n",
       "      <td>96.7323837</td>\n",
       "      <td>97.0709028</td>\n",
       "      <td>98.7403649</td>\n",
       "      <td>101.3614549</td>\n",
       "      <td>109.2927563</td>\n",
       "      <td>93.3066187</td>\n",
       "      <td>150.9736834</td>\n",
       "      <td>0</td>\n",
       "      <td>100.621055</td>\n",
       "      <td>88.371779</td>\n",
       "    </tr>\n",
       "    <tr>\n",
       "      <th>2</th>\n",
       "      <td>2021/08</td>\n",
       "      <td>합계</td>\n",
       "      <td>40.967125</td>\n",
       "      <td>99.643992</td>\n",
       "      <td>109.687386</td>\n",
       "      <td>532.428065</td>\n",
       "      <td>141.931066</td>\n",
       "      <td>163.840472</td>\n",
       "      <td>92.6850495</td>\n",
       "      <td>92.7576511</td>\n",
       "      <td>97.9136241</td>\n",
       "      <td>100.6974973</td>\n",
       "      <td>114.3688235</td>\n",
       "      <td>91.6457939</td>\n",
       "      <td>156.942158</td>\n",
       "      <td>0</td>\n",
       "      <td>98.206236</td>\n",
       "      <td>98.448852</td>\n",
       "    </tr>\n",
       "  </tbody>\n",
       "</table>\n",
       "</div>"
      ],
      "text/plain": [
       "        기간   지역        원자력        유연탄         무연탄          유류         LNG  \\\n",
       "0      NaN  NaN        NaN        NaN         NaN         NaN         NaN   \n",
       "1  2021/09   합계  32.740077  94.728006  115.703868  213.888207  125.427094   \n",
       "2  2021/08   합계  40.967125  99.643992  109.687386  532.428065  141.931066   \n",
       "\n",
       "           양수         신재생  Unnamed: 9 Unnamed: 10  Unnamed: 11  Unnamed: 12  \\\n",
       "0         NaN        연료전지       석탄가스화          태양           풍력           수력   \n",
       "1  130.291434  96.7323837  97.0709028  98.7403649  101.3614549  109.2927563   \n",
       "2  163.840472  92.6850495  92.7576511  97.9136241  100.6974973  114.3688235   \n",
       "\n",
       "  Unnamed: 13  Unnamed: 14 Unnamed: 15          기타         합계  \n",
       "0          해양          바이오         폐기물         NaN        NaN  \n",
       "1  93.3066187  150.9736834           0  100.621055  88.371779  \n",
       "2  91.6457939   156.942158           0   98.206236  98.448852  "
      ]
     },
     "execution_count": 3,
     "metadata": {},
     "output_type": "execute_result"
    }
   ],
   "source": [
    "df.head(3)"
   ]
  },
  {
   "cell_type": "code",
   "execution_count": 4,
   "id": "af1d9894",
   "metadata": {
    "scrolled": true
   },
   "outputs": [
    {
     "data": {
      "text/plain": [
       "Index(['기간', '지역', '원자력', '유연탄', '무연탄', '유류', 'LNG', '양수', '신재생', 'Unnamed: 9',\n",
       "       'Unnamed: 10', 'Unnamed: 11', 'Unnamed: 12', 'Unnamed: 13',\n",
       "       'Unnamed: 14', 'Unnamed: 15', '기타', '합계'],\n",
       "      dtype='object')"
      ]
     },
     "execution_count": 4,
     "metadata": {},
     "output_type": "execute_result"
    }
   ],
   "source": [
    "df.columns"
   ]
  },
  {
   "cell_type": "code",
   "execution_count": 5,
   "id": "b1d1b81d",
   "metadata": {},
   "outputs": [
    {
     "data": {
      "text/plain": [
       "기간               NaN\n",
       "지역               NaN\n",
       "원자력              NaN\n",
       "유연탄              NaN\n",
       "무연탄              NaN\n",
       "유류               NaN\n",
       "LNG              NaN\n",
       "양수               NaN\n",
       "신재생             연료전지\n",
       "Unnamed: 9     석탄가스화\n",
       "Unnamed: 10       태양\n",
       "Unnamed: 11       풍력\n",
       "Unnamed: 12       수력\n",
       "Unnamed: 13       해양\n",
       "Unnamed: 14      바이오\n",
       "Unnamed: 15      폐기물\n",
       "기타               NaN\n",
       "합계               NaN\n",
       "Name: 0, dtype: object"
      ]
     },
     "execution_count": 5,
     "metadata": {},
     "output_type": "execute_result"
    }
   ],
   "source": [
    "df.iloc[0]"
   ]
  },
  {
   "cell_type": "code",
   "execution_count": 6,
   "id": "e589a43b",
   "metadata": {},
   "outputs": [
    {
     "data": {
      "text/plain": [
       "['연료전지', '석탄가스화', '태양', '풍력', '수력', '해양', '바이오', '폐기물']"
      ]
     },
     "execution_count": 6,
     "metadata": {},
     "output_type": "execute_result"
    }
   ],
   "source": [
    "t = df.iloc[0].dropna()\n",
    "t = list(t)\n",
    "t"
   ]
  },
  {
   "cell_type": "code",
   "execution_count": 7,
   "id": "2e061d77",
   "metadata": {},
   "outputs": [
    {
     "data": {
      "text/plain": [
       "['Unnamed: 9',\n",
       " 'Unnamed: 10',\n",
       " 'Unnamed: 11',\n",
       " 'Unnamed: 12',\n",
       " 'Unnamed: 13',\n",
       " 'Unnamed: 14',\n",
       " 'Unnamed: 15']"
      ]
     },
     "execution_count": 7,
     "metadata": {},
     "output_type": "execute_result"
    }
   ],
   "source": [
    "t1 = []\n",
    "for i in range(0, len(df.columns)):\n",
    "    if 'Unnamed' in df.columns[i]:\n",
    "        t1.append(df.columns[i])\n",
    "t1"
   ]
  },
  {
   "cell_type": "code",
   "execution_count": 8,
   "id": "f3a5f77c",
   "metadata": {},
   "outputs": [
    {
     "data": {
      "text/plain": [
       "['신재생_연료전지',\n",
       " '신재생_석탄가스화',\n",
       " '신재생_태양',\n",
       " '신재생_풍력',\n",
       " '신재생_수력',\n",
       " '신재생_해양',\n",
       " '신재생_바이오',\n",
       " '신재생_폐기물']"
      ]
     },
     "execution_count": 8,
     "metadata": {},
     "output_type": "execute_result"
    }
   ],
   "source": [
    "t2 = []\n",
    "for i in range(0, len(t)):\n",
    "    t2.append('신재생_' + t[i])\n",
    "t2"
   ]
  },
  {
   "cell_type": "code",
   "execution_count": 9,
   "id": "e63ed108",
   "metadata": {},
   "outputs": [
    {
     "data": {
      "text/plain": [
       "Index(['기간', '지역', '원자력', '유연탄', '무연탄', '유류', 'LNG', '양수', '신재생', 'Unnamed: 9',\n",
       "       'Unnamed: 10', 'Unnamed: 11', 'Unnamed: 12', 'Unnamed: 13',\n",
       "       'Unnamed: 14', 'Unnamed: 15', '기타', '합계'],\n",
       "      dtype='object')"
      ]
     },
     "execution_count": 9,
     "metadata": {},
     "output_type": "execute_result"
    }
   ],
   "source": [
    "df.columns"
   ]
  },
  {
   "cell_type": "code",
   "execution_count": 10,
   "id": "46d86bc4",
   "metadata": {},
   "outputs": [
    {
     "data": {
      "text/plain": [
       "15"
      ]
     },
     "execution_count": 10,
     "metadata": {},
     "output_type": "execute_result"
    }
   ],
   "source": [
    "df.columns.get_loc(\"Unnamed: 15\")"
   ]
  },
  {
   "cell_type": "code",
   "execution_count": 11,
   "id": "695335da",
   "metadata": {
    "scrolled": true
   },
   "outputs": [
    {
     "data": {
      "text/plain": [
       "8"
      ]
     },
     "execution_count": 11,
     "metadata": {},
     "output_type": "execute_result"
    }
   ],
   "source": [
    "df.columns.get_loc(\"신재생\")"
   ]
  },
  {
   "cell_type": "code",
   "execution_count": 12,
   "id": "34b22356",
   "metadata": {},
   "outputs": [
    {
     "data": {
      "text/html": [
       "<div>\n",
       "<style scoped>\n",
       "    .dataframe tbody tr th:only-of-type {\n",
       "        vertical-align: middle;\n",
       "    }\n",
       "\n",
       "    .dataframe tbody tr th {\n",
       "        vertical-align: top;\n",
       "    }\n",
       "\n",
       "    .dataframe thead th {\n",
       "        text-align: right;\n",
       "    }\n",
       "</style>\n",
       "<table border=\"1\" class=\"dataframe\">\n",
       "  <thead>\n",
       "    <tr style=\"text-align: right;\">\n",
       "      <th></th>\n",
       "      <th>기간</th>\n",
       "      <th>지역</th>\n",
       "      <th>원자력</th>\n",
       "      <th>유연탄</th>\n",
       "      <th>무연탄</th>\n",
       "      <th>유류</th>\n",
       "      <th>LNG</th>\n",
       "      <th>양수</th>\n",
       "      <th>신재생</th>\n",
       "      <th>Unnamed: 9</th>\n",
       "      <th>Unnamed: 10</th>\n",
       "      <th>Unnamed: 11</th>\n",
       "      <th>Unnamed: 12</th>\n",
       "      <th>Unnamed: 13</th>\n",
       "      <th>Unnamed: 14</th>\n",
       "      <th>Unnamed: 15</th>\n",
       "      <th>기타</th>\n",
       "      <th>합계</th>\n",
       "    </tr>\n",
       "  </thead>\n",
       "  <tbody>\n",
       "    <tr>\n",
       "      <th>0</th>\n",
       "      <td>NaN</td>\n",
       "      <td>NaN</td>\n",
       "      <td>NaN</td>\n",
       "      <td>NaN</td>\n",
       "      <td>NaN</td>\n",
       "      <td>NaN</td>\n",
       "      <td>NaN</td>\n",
       "      <td>NaN</td>\n",
       "      <td>연료전지</td>\n",
       "      <td>석탄가스화</td>\n",
       "      <td>태양</td>\n",
       "      <td>풍력</td>\n",
       "      <td>수력</td>\n",
       "      <td>해양</td>\n",
       "      <td>바이오</td>\n",
       "      <td>폐기물</td>\n",
       "      <td>NaN</td>\n",
       "      <td>NaN</td>\n",
       "    </tr>\n",
       "    <tr>\n",
       "      <th>1</th>\n",
       "      <td>2021/09</td>\n",
       "      <td>합계</td>\n",
       "      <td>32.740077</td>\n",
       "      <td>94.728006</td>\n",
       "      <td>115.703868</td>\n",
       "      <td>213.888207</td>\n",
       "      <td>125.427094</td>\n",
       "      <td>130.291434</td>\n",
       "      <td>96.7323837</td>\n",
       "      <td>97.0709028</td>\n",
       "      <td>98.7403649</td>\n",
       "      <td>101.3614549</td>\n",
       "      <td>109.2927563</td>\n",
       "      <td>93.3066187</td>\n",
       "      <td>150.9736834</td>\n",
       "      <td>0</td>\n",
       "      <td>100.621055</td>\n",
       "      <td>88.371779</td>\n",
       "    </tr>\n",
       "    <tr>\n",
       "      <th>2</th>\n",
       "      <td>2021/08</td>\n",
       "      <td>합계</td>\n",
       "      <td>40.967125</td>\n",
       "      <td>99.643992</td>\n",
       "      <td>109.687386</td>\n",
       "      <td>532.428065</td>\n",
       "      <td>141.931066</td>\n",
       "      <td>163.840472</td>\n",
       "      <td>92.6850495</td>\n",
       "      <td>92.7576511</td>\n",
       "      <td>97.9136241</td>\n",
       "      <td>100.6974973</td>\n",
       "      <td>114.3688235</td>\n",
       "      <td>91.6457939</td>\n",
       "      <td>156.942158</td>\n",
       "      <td>0</td>\n",
       "      <td>98.206236</td>\n",
       "      <td>98.448852</td>\n",
       "    </tr>\n",
       "    <tr>\n",
       "      <th>3</th>\n",
       "      <td>2021/07</td>\n",
       "      <td>합계</td>\n",
       "      <td>64.284447</td>\n",
       "      <td>99.914346</td>\n",
       "      <td>99.605518</td>\n",
       "      <td>212.504026</td>\n",
       "      <td>121.216983</td>\n",
       "      <td>137.929163</td>\n",
       "      <td>86.1050101</td>\n",
       "      <td>90.2787505</td>\n",
       "      <td>91.089834</td>\n",
       "      <td>92.72835</td>\n",
       "      <td>104.7636151</td>\n",
       "      <td>85.034383</td>\n",
       "      <td>142.752771</td>\n",
       "      <td>0</td>\n",
       "      <td>91.464079</td>\n",
       "      <td>99.198193</td>\n",
       "    </tr>\n",
       "    <tr>\n",
       "      <th>4</th>\n",
       "      <td>2021/06</td>\n",
       "      <td>합계</td>\n",
       "      <td>69.586483</td>\n",
       "      <td>91.967982</td>\n",
       "      <td>87.978433</td>\n",
       "      <td>183.701421</td>\n",
       "      <td>101.198998</td>\n",
       "      <td>102.767284</td>\n",
       "      <td>82.1299504</td>\n",
       "      <td>87.5</td>\n",
       "      <td>83.944343</td>\n",
       "      <td>86.6458097</td>\n",
       "      <td>90.9281638</td>\n",
       "      <td>81.2522193</td>\n",
       "      <td>125.5759618</td>\n",
       "      <td>0</td>\n",
       "      <td>18.762667</td>\n",
       "      <td>89.631375</td>\n",
       "    </tr>\n",
       "    <tr>\n",
       "      <th>...</th>\n",
       "      <td>...</td>\n",
       "      <td>...</td>\n",
       "      <td>...</td>\n",
       "      <td>...</td>\n",
       "      <td>...</td>\n",
       "      <td>...</td>\n",
       "      <td>...</td>\n",
       "      <td>...</td>\n",
       "      <td>...</td>\n",
       "      <td>...</td>\n",
       "      <td>...</td>\n",
       "      <td>...</td>\n",
       "      <td>...</td>\n",
       "      <td>...</td>\n",
       "      <td>...</td>\n",
       "      <td>...</td>\n",
       "      <td>...</td>\n",
       "      <td>...</td>\n",
       "    </tr>\n",
       "    <tr>\n",
       "      <th>233</th>\n",
       "      <td>2002/05</td>\n",
       "      <td>합계</td>\n",
       "      <td>39.371855</td>\n",
       "      <td>41.660467</td>\n",
       "      <td>48.691511</td>\n",
       "      <td>66.755077</td>\n",
       "      <td>75.689799</td>\n",
       "      <td>81.218323</td>\n",
       "      <td>0</td>\n",
       "      <td>0</td>\n",
       "      <td>0</td>\n",
       "      <td>0</td>\n",
       "      <td>58.9023765</td>\n",
       "      <td>0</td>\n",
       "      <td>0</td>\n",
       "      <td>0</td>\n",
       "      <td>NaN</td>\n",
       "      <td>46.039935</td>\n",
       "    </tr>\n",
       "    <tr>\n",
       "      <th>234</th>\n",
       "      <td>2002/04</td>\n",
       "      <td>합계</td>\n",
       "      <td>40.299890</td>\n",
       "      <td>41.600401</td>\n",
       "      <td>50.465364</td>\n",
       "      <td>60.490947</td>\n",
       "      <td>73.211908</td>\n",
       "      <td>72.717281</td>\n",
       "      <td>0</td>\n",
       "      <td>0</td>\n",
       "      <td>0</td>\n",
       "      <td>0</td>\n",
       "      <td>56.6115991</td>\n",
       "      <td>0</td>\n",
       "      <td>0</td>\n",
       "      <td>0</td>\n",
       "      <td>NaN</td>\n",
       "      <td>46.265551</td>\n",
       "    </tr>\n",
       "    <tr>\n",
       "      <th>235</th>\n",
       "      <td>2002/03</td>\n",
       "      <td>합계</td>\n",
       "      <td>39.351880</td>\n",
       "      <td>42.088690</td>\n",
       "      <td>51.118453</td>\n",
       "      <td>62.854301</td>\n",
       "      <td>74.247935</td>\n",
       "      <td>74.233229</td>\n",
       "      <td>0</td>\n",
       "      <td>0</td>\n",
       "      <td>0</td>\n",
       "      <td>0</td>\n",
       "      <td>60.5903633</td>\n",
       "      <td>0</td>\n",
       "      <td>0</td>\n",
       "      <td>0</td>\n",
       "      <td>NaN</td>\n",
       "      <td>46.546928</td>\n",
       "    </tr>\n",
       "    <tr>\n",
       "      <th>236</th>\n",
       "      <td>2002/02</td>\n",
       "      <td>합계</td>\n",
       "      <td>38.932937</td>\n",
       "      <td>42.394581</td>\n",
       "      <td>54.243727</td>\n",
       "      <td>71.515871</td>\n",
       "      <td>79.340000</td>\n",
       "      <td>81.143168</td>\n",
       "      <td>0</td>\n",
       "      <td>0</td>\n",
       "      <td>0</td>\n",
       "      <td>0</td>\n",
       "      <td>60.5317227</td>\n",
       "      <td>0</td>\n",
       "      <td>0</td>\n",
       "      <td>0</td>\n",
       "      <td>NaN</td>\n",
       "      <td>47.347208</td>\n",
       "    </tr>\n",
       "    <tr>\n",
       "      <th>237</th>\n",
       "      <td>2002/01</td>\n",
       "      <td>합계</td>\n",
       "      <td>40.212111</td>\n",
       "      <td>41.905286</td>\n",
       "      <td>48.963261</td>\n",
       "      <td>72.521700</td>\n",
       "      <td>79.256818</td>\n",
       "      <td>104.912083</td>\n",
       "      <td>0</td>\n",
       "      <td>0</td>\n",
       "      <td>0</td>\n",
       "      <td>0</td>\n",
       "      <td>67.2300531</td>\n",
       "      <td>0</td>\n",
       "      <td>0</td>\n",
       "      <td>0</td>\n",
       "      <td>NaN</td>\n",
       "      <td>48.750533</td>\n",
       "    </tr>\n",
       "  </tbody>\n",
       "</table>\n",
       "<p>238 rows × 18 columns</p>\n",
       "</div>"
      ],
      "text/plain": [
       "          기간   지역        원자력        유연탄         무연탄          유류         LNG  \\\n",
       "0        NaN  NaN        NaN        NaN         NaN         NaN         NaN   \n",
       "1    2021/09   합계  32.740077  94.728006  115.703868  213.888207  125.427094   \n",
       "2    2021/08   합계  40.967125  99.643992  109.687386  532.428065  141.931066   \n",
       "3    2021/07   합계  64.284447  99.914346   99.605518  212.504026  121.216983   \n",
       "4    2021/06   합계  69.586483  91.967982   87.978433  183.701421  101.198998   \n",
       "..       ...  ...        ...        ...         ...         ...         ...   \n",
       "233  2002/05   합계  39.371855  41.660467   48.691511   66.755077   75.689799   \n",
       "234  2002/04   합계  40.299890  41.600401   50.465364   60.490947   73.211908   \n",
       "235  2002/03   합계  39.351880  42.088690   51.118453   62.854301   74.247935   \n",
       "236  2002/02   합계  38.932937  42.394581   54.243727   71.515871   79.340000   \n",
       "237  2002/01   합계  40.212111  41.905286   48.963261   72.521700   79.256818   \n",
       "\n",
       "             양수         신재생  Unnamed: 9 Unnamed: 10  Unnamed: 11  Unnamed: 12  \\\n",
       "0           NaN        연료전지       석탄가스화          태양           풍력           수력   \n",
       "1    130.291434  96.7323837  97.0709028  98.7403649  101.3614549  109.2927563   \n",
       "2    163.840472  92.6850495  92.7576511  97.9136241  100.6974973  114.3688235   \n",
       "3    137.929163  86.1050101  90.2787505   91.089834     92.72835  104.7636151   \n",
       "4    102.767284  82.1299504        87.5   83.944343   86.6458097   90.9281638   \n",
       "..          ...         ...         ...         ...          ...          ...   \n",
       "233   81.218323           0           0           0            0   58.9023765   \n",
       "234   72.717281           0           0           0            0   56.6115991   \n",
       "235   74.233229           0           0           0            0   60.5903633   \n",
       "236   81.143168           0           0           0            0   60.5317227   \n",
       "237  104.912083           0           0           0            0   67.2300531   \n",
       "\n",
       "    Unnamed: 13  Unnamed: 14 Unnamed: 15          기타         합계  \n",
       "0            해양          바이오         폐기물         NaN        NaN  \n",
       "1    93.3066187  150.9736834           0  100.621055  88.371779  \n",
       "2    91.6457939   156.942158           0   98.206236  98.448852  \n",
       "3     85.034383   142.752771           0   91.464079  99.198193  \n",
       "4    81.2522193  125.5759618           0   18.762667  89.631375  \n",
       "..          ...          ...         ...         ...        ...  \n",
       "233           0            0           0         NaN  46.039935  \n",
       "234           0            0           0         NaN  46.265551  \n",
       "235           0            0           0         NaN  46.546928  \n",
       "236           0            0           0         NaN  47.347208  \n",
       "237           0            0           0         NaN  48.750533  \n",
       "\n",
       "[238 rows x 18 columns]"
      ]
     },
     "execution_count": 12,
     "metadata": {},
     "output_type": "execute_result"
    }
   ],
   "source": [
    "for i in range(df.columns.get_loc(\"신재생\"), df.columns.get_loc(\"Unnamed: 15\")):\n",
    "    for j in range(0, len(t2)):\n",
    "        df.rename(columns = {})\n",
    "df"
   ]
  },
  {
   "cell_type": "code",
   "execution_count": null,
   "id": "9b21329c",
   "metadata": {},
   "outputs": [],
   "source": []
  }
 ],
 "metadata": {
  "kernelspec": {
   "display_name": "Python 3",
   "language": "python",
   "name": "python3"
  },
  "language_info": {
   "codemirror_mode": {
    "name": "ipython",
    "version": 3
   },
   "file_extension": ".py",
   "mimetype": "text/x-python",
   "name": "python",
   "nbconvert_exporter": "python",
   "pygments_lexer": "ipython3",
   "version": "3.8.8"
  }
 },
 "nbformat": 4,
 "nbformat_minor": 5
}
