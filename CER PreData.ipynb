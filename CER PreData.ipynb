{
 "cells": [
  {
   "cell_type": "markdown",
   "id": "49666cda",
   "metadata": {},
   "source": [
    "# 탄소배   리 해두기"
   ]
  },
  {
   "cell_type": "markdown",
   "id": "7bbbdf5f",
   "metadata": {},
   "source": [
    "## 목표 : 탄소배출권의 종류별로 그룹, 날짜순으로 나열"
   ]
  },
  {
   "cell_type": "code",
   "execution_count": 1,
   "id": "4f9339e2",
   "metadata": {},
   "outputs": [],
   "source": [
    "import pandas as pd\n",
    "import numpy as np"
   ]
  },
  {
   "cell_type": "code",
   "execution_count": null,
   "id": "b8a2b711",
   "metadata": {},
   "outputs": [],
   "source": []
  }
 ],
 "metadata": {
  "kernelspec": {
   "display_name": "Python 3",
   "language": "python",
   "name": "python3"
  },
  "language_info": {
   "codemirror_mode": {
    "name": "ipython",
    "version": 3
   },
   "file_extension": ".py",
   "mimetype": "text/x-python",
   "name": "python",
   "nbconvert_exporter": "python",
   "pygments_lexer": "ipython3",
   "version": "3.8.8"
  }
 },
 "nbformat": 4,
 "nbformat_minor": 5
}
