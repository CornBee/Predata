{
 "cells": [
  {
   "cell_type": "code",
   "execution_count": 1,
   "id": "022cf404",
   "metadata": {},
   "outputs": [],
   "source": [
    "import pandas as pd\n",
    "import numpy as np"
   ]
  },
  {
   "cell_type": "code",
   "execution_count": 2,
   "id": "a8c8926d",
   "metadata": {},
   "outputs": [],
   "source": [
    "df = pd.read_csv('data/한국가스공사_시간별 공급량_20181231.csv', encoding = 'cp949')"
   ]
  },
  {
   "cell_type": "code",
   "execution_count": 3,
   "id": "f7af5797",
   "metadata": {
    "scrolled": false
   },
   "outputs": [
    {
     "data": {
      "text/html": [
       "<div>\n",
       "<style scoped>\n",
       "    .dataframe tbody tr th:only-of-type {\n",
       "        vertical-align: middle;\n",
       "    }\n",
       "\n",
       "    .dataframe tbody tr th {\n",
       "        vertical-align: top;\n",
       "    }\n",
       "\n",
       "    .dataframe thead th {\n",
       "        text-align: right;\n",
       "    }\n",
       "</style>\n",
       "<table border=\"1\" class=\"dataframe\">\n",
       "  <thead>\n",
       "    <tr style=\"text-align: right;\">\n",
       "      <th></th>\n",
       "      <th>연월일</th>\n",
       "      <th>시간</th>\n",
       "      <th>구분</th>\n",
       "      <th>공급량</th>\n",
       "    </tr>\n",
       "  </thead>\n",
       "  <tbody>\n",
       "    <tr>\n",
       "      <th>0</th>\n",
       "      <td>2013-01-01</td>\n",
       "      <td>1</td>\n",
       "      <td>A</td>\n",
       "      <td>2497.129</td>\n",
       "    </tr>\n",
       "    <tr>\n",
       "      <th>1</th>\n",
       "      <td>2013-01-01</td>\n",
       "      <td>2</td>\n",
       "      <td>A</td>\n",
       "      <td>2363.265</td>\n",
       "    </tr>\n",
       "    <tr>\n",
       "      <th>2</th>\n",
       "      <td>2013-01-01</td>\n",
       "      <td>3</td>\n",
       "      <td>A</td>\n",
       "      <td>2258.505</td>\n",
       "    </tr>\n",
       "    <tr>\n",
       "      <th>3</th>\n",
       "      <td>2013-01-01</td>\n",
       "      <td>4</td>\n",
       "      <td>A</td>\n",
       "      <td>2243.969</td>\n",
       "    </tr>\n",
       "    <tr>\n",
       "      <th>4</th>\n",
       "      <td>2013-01-01</td>\n",
       "      <td>5</td>\n",
       "      <td>A</td>\n",
       "      <td>2344.105</td>\n",
       "    </tr>\n",
       "    <tr>\n",
       "      <th>...</th>\n",
       "      <td>...</td>\n",
       "      <td>...</td>\n",
       "      <td>...</td>\n",
       "      <td>...</td>\n",
       "    </tr>\n",
       "    <tr>\n",
       "      <th>368083</th>\n",
       "      <td>2018-12-31</td>\n",
       "      <td>20</td>\n",
       "      <td>H</td>\n",
       "      <td>681.033</td>\n",
       "    </tr>\n",
       "    <tr>\n",
       "      <th>368084</th>\n",
       "      <td>2018-12-31</td>\n",
       "      <td>21</td>\n",
       "      <td>H</td>\n",
       "      <td>669.961</td>\n",
       "    </tr>\n",
       "    <tr>\n",
       "      <th>368085</th>\n",
       "      <td>2018-12-31</td>\n",
       "      <td>22</td>\n",
       "      <td>H</td>\n",
       "      <td>657.941</td>\n",
       "    </tr>\n",
       "    <tr>\n",
       "      <th>368086</th>\n",
       "      <td>2018-12-31</td>\n",
       "      <td>23</td>\n",
       "      <td>H</td>\n",
       "      <td>610.953</td>\n",
       "    </tr>\n",
       "    <tr>\n",
       "      <th>368087</th>\n",
       "      <td>2018-12-31</td>\n",
       "      <td>24</td>\n",
       "      <td>H</td>\n",
       "      <td>560.896</td>\n",
       "    </tr>\n",
       "  </tbody>\n",
       "</table>\n",
       "<p>368088 rows × 4 columns</p>\n",
       "</div>"
      ],
      "text/plain": [
       "               연월일  시간 구분       공급량\n",
       "0       2013-01-01   1  A  2497.129\n",
       "1       2013-01-01   2  A  2363.265\n",
       "2       2013-01-01   3  A  2258.505\n",
       "3       2013-01-01   4  A  2243.969\n",
       "4       2013-01-01   5  A  2344.105\n",
       "...            ...  .. ..       ...\n",
       "368083  2018-12-31  20  H   681.033\n",
       "368084  2018-12-31  21  H   669.961\n",
       "368085  2018-12-31  22  H   657.941\n",
       "368086  2018-12-31  23  H   610.953\n",
       "368087  2018-12-31  24  H   560.896\n",
       "\n",
       "[368088 rows x 4 columns]"
      ]
     },
     "execution_count": 3,
     "metadata": {},
     "output_type": "execute_result"
    }
   ],
   "source": [
    "df"
   ]
  },
  {
   "cell_type": "code",
   "execution_count": 4,
   "id": "582c5547",
   "metadata": {},
   "outputs": [
    {
     "data": {
      "text/plain": [
       "연월일     object\n",
       "시간       int64\n",
       "구분      object\n",
       "공급량    float64\n",
       "dtype: object"
      ]
     },
     "execution_count": 4,
     "metadata": {},
     "output_type": "execute_result"
    }
   ],
   "source": [
    "df.dtypes"
   ]
  },
  {
   "cell_type": "code",
   "execution_count": 5,
   "id": "f0ee0602",
   "metadata": {},
   "outputs": [
    {
     "data": {
      "text/plain": [
       "368088"
      ]
     },
     "execution_count": 5,
     "metadata": {},
     "output_type": "execute_result"
    }
   ],
   "source": [
    "t = df['시간'].values\n",
    "len(t)"
   ]
  },
  {
   "cell_type": "code",
   "execution_count": 6,
   "id": "62416c03",
   "metadata": {},
   "outputs": [],
   "source": [
    "df['연월일'] = pd.to_datetime(df['연월일'])"
   ]
  },
  {
   "cell_type": "code",
   "execution_count": 7,
   "id": "2c34ef99",
   "metadata": {},
   "outputs": [
    {
     "data": {
      "text/plain": [
       "연월일    0\n",
       "시간     0\n",
       "구분     0\n",
       "공급량    0\n",
       "dtype: int64"
      ]
     },
     "execution_count": 7,
     "metadata": {},
     "output_type": "execute_result"
    }
   ],
   "source": [
    "df.isnull().sum()"
   ]
  },
  {
   "cell_type": "code",
   "execution_count": 8,
   "id": "e72ad19f",
   "metadata": {},
   "outputs": [
    {
     "data": {
      "text/plain": [
       "1     15337\n",
       "2     15337\n",
       "23    15337\n",
       "22    15337\n",
       "21    15337\n",
       "20    15337\n",
       "19    15337\n",
       "18    15337\n",
       "17    15337\n",
       "16    15337\n",
       "15    15337\n",
       "14    15337\n",
       "13    15337\n",
       "12    15337\n",
       "11    15337\n",
       "10    15337\n",
       "9     15337\n",
       "8     15337\n",
       "7     15337\n",
       "6     15337\n",
       "5     15337\n",
       "4     15337\n",
       "3     15337\n",
       "24    15337\n",
       "Name: 시간, dtype: int64"
      ]
     },
     "execution_count": 8,
     "metadata": {},
     "output_type": "execute_result"
    }
   ],
   "source": [
    "df['시간'].value_counts()"
   ]
  },
  {
   "cell_type": "code",
   "execution_count": 9,
   "id": "0506632a",
   "metadata": {},
   "outputs": [
    {
     "data": {
      "text/plain": [
       "연월일    datetime64[ns]\n",
       "시간              int64\n",
       "구분             object\n",
       "공급량           float64\n",
       "dtype: object"
      ]
     },
     "execution_count": 9,
     "metadata": {},
     "output_type": "execute_result"
    }
   ],
   "source": [
    "df.dtypes"
   ]
  },
  {
   "cell_type": "code",
   "execution_count": 10,
   "id": "c7b9187f",
   "metadata": {},
   "outputs": [],
   "source": [
    "# df['연월일'] + ' ' + df['시간']"
   ]
  },
  {
   "cell_type": "code",
   "execution_count": 11,
   "id": "9e47bdbd",
   "metadata": {},
   "outputs": [],
   "source": [
    "# date_1 = df['연월일']\n",
    "# end_date = date_1 + df['시간'].timedelta()"
   ]
  },
  {
   "cell_type": "code",
   "execution_count": 12,
   "id": "3945e5aa",
   "metadata": {},
   "outputs": [],
   "source": [
    "# t = df['연월일'].tolist()\n",
    "# t"
   ]
  },
  {
   "cell_type": "code",
   "execution_count": 13,
   "id": "258ed2b7",
   "metadata": {},
   "outputs": [
    {
     "data": {
      "text/plain": [
       "0        0 days 01:00:00\n",
       "1        0 days 02:00:00\n",
       "2        0 days 03:00:00\n",
       "3        0 days 04:00:00\n",
       "4        0 days 05:00:00\n",
       "               ...      \n",
       "368083   0 days 20:00:00\n",
       "368084   0 days 21:00:00\n",
       "368085   0 days 22:00:00\n",
       "368086   0 days 23:00:00\n",
       "368087   1 days 00:00:00\n",
       "Name: 시간, Length: 368088, dtype: timedelta64[ns]"
      ]
     },
     "execution_count": 13,
     "metadata": {},
     "output_type": "execute_result"
    }
   ],
   "source": [
    "t1 = pd.to_timedelta(df['시간'], unit='H')\n",
    "t1"
   ]
  },
  {
   "cell_type": "code",
   "execution_count": 14,
   "id": "ce76be6a",
   "metadata": {},
   "outputs": [],
   "source": [
    "df['time'] = (\n",
    "        df['연월일'] + t1\n",
    ")"
   ]
  },
  {
   "cell_type": "code",
   "execution_count": 15,
   "id": "2491e5bf",
   "metadata": {},
   "outputs": [
    {
     "data": {
      "text/html": [
       "<div>\n",
       "<style scoped>\n",
       "    .dataframe tbody tr th:only-of-type {\n",
       "        vertical-align: middle;\n",
       "    }\n",
       "\n",
       "    .dataframe tbody tr th {\n",
       "        vertical-align: top;\n",
       "    }\n",
       "\n",
       "    .dataframe thead th {\n",
       "        text-align: right;\n",
       "    }\n",
       "</style>\n",
       "<table border=\"1\" class=\"dataframe\">\n",
       "  <thead>\n",
       "    <tr style=\"text-align: right;\">\n",
       "      <th></th>\n",
       "      <th>연월일</th>\n",
       "      <th>시간</th>\n",
       "      <th>구분</th>\n",
       "      <th>공급량</th>\n",
       "      <th>time</th>\n",
       "    </tr>\n",
       "  </thead>\n",
       "  <tbody>\n",
       "    <tr>\n",
       "      <th>0</th>\n",
       "      <td>2013-01-01</td>\n",
       "      <td>1</td>\n",
       "      <td>A</td>\n",
       "      <td>2497.129</td>\n",
       "      <td>2013-01-01 01:00:00</td>\n",
       "    </tr>\n",
       "    <tr>\n",
       "      <th>1</th>\n",
       "      <td>2013-01-01</td>\n",
       "      <td>2</td>\n",
       "      <td>A</td>\n",
       "      <td>2363.265</td>\n",
       "      <td>2013-01-01 02:00:00</td>\n",
       "    </tr>\n",
       "    <tr>\n",
       "      <th>2</th>\n",
       "      <td>2013-01-01</td>\n",
       "      <td>3</td>\n",
       "      <td>A</td>\n",
       "      <td>2258.505</td>\n",
       "      <td>2013-01-01 03:00:00</td>\n",
       "    </tr>\n",
       "    <tr>\n",
       "      <th>3</th>\n",
       "      <td>2013-01-01</td>\n",
       "      <td>4</td>\n",
       "      <td>A</td>\n",
       "      <td>2243.969</td>\n",
       "      <td>2013-01-01 04:00:00</td>\n",
       "    </tr>\n",
       "    <tr>\n",
       "      <th>4</th>\n",
       "      <td>2013-01-01</td>\n",
       "      <td>5</td>\n",
       "      <td>A</td>\n",
       "      <td>2344.105</td>\n",
       "      <td>2013-01-01 05:00:00</td>\n",
       "    </tr>\n",
       "    <tr>\n",
       "      <th>...</th>\n",
       "      <td>...</td>\n",
       "      <td>...</td>\n",
       "      <td>...</td>\n",
       "      <td>...</td>\n",
       "      <td>...</td>\n",
       "    </tr>\n",
       "    <tr>\n",
       "      <th>368083</th>\n",
       "      <td>2018-12-31</td>\n",
       "      <td>20</td>\n",
       "      <td>H</td>\n",
       "      <td>681.033</td>\n",
       "      <td>2018-12-31 20:00:00</td>\n",
       "    </tr>\n",
       "    <tr>\n",
       "      <th>368084</th>\n",
       "      <td>2018-12-31</td>\n",
       "      <td>21</td>\n",
       "      <td>H</td>\n",
       "      <td>669.961</td>\n",
       "      <td>2018-12-31 21:00:00</td>\n",
       "    </tr>\n",
       "    <tr>\n",
       "      <th>368085</th>\n",
       "      <td>2018-12-31</td>\n",
       "      <td>22</td>\n",
       "      <td>H</td>\n",
       "      <td>657.941</td>\n",
       "      <td>2018-12-31 22:00:00</td>\n",
       "    </tr>\n",
       "    <tr>\n",
       "      <th>368086</th>\n",
       "      <td>2018-12-31</td>\n",
       "      <td>23</td>\n",
       "      <td>H</td>\n",
       "      <td>610.953</td>\n",
       "      <td>2018-12-31 23:00:00</td>\n",
       "    </tr>\n",
       "    <tr>\n",
       "      <th>368087</th>\n",
       "      <td>2018-12-31</td>\n",
       "      <td>24</td>\n",
       "      <td>H</td>\n",
       "      <td>560.896</td>\n",
       "      <td>2019-01-01 00:00:00</td>\n",
       "    </tr>\n",
       "  </tbody>\n",
       "</table>\n",
       "<p>368088 rows × 5 columns</p>\n",
       "</div>"
      ],
      "text/plain": [
       "              연월일  시간 구분       공급량                time\n",
       "0      2013-01-01   1  A  2497.129 2013-01-01 01:00:00\n",
       "1      2013-01-01   2  A  2363.265 2013-01-01 02:00:00\n",
       "2      2013-01-01   3  A  2258.505 2013-01-01 03:00:00\n",
       "3      2013-01-01   4  A  2243.969 2013-01-01 04:00:00\n",
       "4      2013-01-01   5  A  2344.105 2013-01-01 05:00:00\n",
       "...           ...  .. ..       ...                 ...\n",
       "368083 2018-12-31  20  H   681.033 2018-12-31 20:00:00\n",
       "368084 2018-12-31  21  H   669.961 2018-12-31 21:00:00\n",
       "368085 2018-12-31  22  H   657.941 2018-12-31 22:00:00\n",
       "368086 2018-12-31  23  H   610.953 2018-12-31 23:00:00\n",
       "368087 2018-12-31  24  H   560.896 2019-01-01 00:00:00\n",
       "\n",
       "[368088 rows x 5 columns]"
      ]
     },
     "execution_count": 15,
     "metadata": {},
     "output_type": "execute_result"
    }
   ],
   "source": [
    "df"
   ]
  },
  {
   "cell_type": "code",
   "execution_count": 16,
   "id": "8e5ae348",
   "metadata": {},
   "outputs": [
    {
     "ename": "NameError",
     "evalue": "name 'obj' is not defined",
     "output_type": "error",
     "traceback": [
      "\u001b[1;31m---------------------------------------------------------------------------\u001b[0m",
      "\u001b[1;31mNameError\u001b[0m                                 Traceback (most recent call last)",
      "\u001b[1;32m<ipython-input-16-b7b484d85470>\u001b[0m in \u001b[0;36m<module>\u001b[1;34m\u001b[0m\n\u001b[0;32m      1\u001b[0m \u001b[0mli\u001b[0m \u001b[1;33m=\u001b[0m \u001b[1;33m[\u001b[0m\u001b[1;33m]\u001b[0m\u001b[1;33m\u001b[0m\u001b[1;33m\u001b[0m\u001b[0m\n\u001b[1;32m----> 2\u001b[1;33m \u001b[0mli\u001b[0m\u001b[1;33m.\u001b[0m\u001b[0mappend\u001b[0m\u001b[1;33m(\u001b[0m\u001b[0mdf\u001b[0m\u001b[1;33m[\u001b[0m\u001b[1;34m'연월일'\u001b[0m\u001b[1;33m]\u001b[0m \u001b[1;33m+\u001b[0m \u001b[0mdf\u001b[0m\u001b[1;33m[\u001b[0m\u001b[1;34m'시간'\u001b[0m\u001b[1;33m]\u001b[0m \u001b[1;33m*\u001b[0m \u001b[0mobj\u001b[0m\u001b[1;33m.\u001b[0m\u001b[0mfreq\u001b[0m\u001b[1;33m)\u001b[0m\u001b[1;33m\u001b[0m\u001b[1;33m\u001b[0m\u001b[0m\n\u001b[0m\u001b[0;32m      3\u001b[0m \u001b[0mdf\u001b[0m\u001b[1;33m\u001b[0m\u001b[1;33m\u001b[0m\u001b[0m\n",
      "\u001b[1;31mNameError\u001b[0m: name 'obj' is not defined"
     ]
    }
   ],
   "source": [
    "# li = []\n",
    "# li.append(df['연월일'] + df['시간'] * obj.freq)\n",
    "# df"
   ]
  },
  {
   "cell_type": "code",
   "execution_count": 17,
   "id": "4bf23119",
   "metadata": {},
   "outputs": [
    {
     "data": {
      "text/plain": [
       "<AxesSubplot:>"
      ]
     },
     "execution_count": 17,
     "metadata": {},
     "output_type": "execute_result"
    },
    {
     "data": {
      "image/png": "[encoded data removed]",
      "text/plain": [
       "<Figure size 432x288 with 1 Axes>"
      ]
     },
     "metadata": {
      "needs_background": "light"
     },
     "output_type": "display_data"
    }
   ],
   "source": [
    "import matplotlib.pyplot as plt # matplotlib 호출\n",
    "%matplotlib inline\n",
    "df['공급량'].hist()"
   ]
  },
  {
   "cell_type": "code",
   "execution_count": 18,
   "id": "22132948",
   "metadata": {},
   "outputs": [
    {
     "data": {
      "text/plain": [
       "count    368088.000000\n",
       "mean        948.100037\n",
       "std         927.211578\n",
       "min           1.378000\n",
       "25%         221.973000\n",
       "50%         637.014000\n",
       "75%        1398.919000\n",
       "max       11593.617000\n",
       "Name: 공급량, dtype: float64"
      ]
     },
     "execution_count": 18,
     "metadata": {},
     "output_type": "execute_result"
    }
   ],
   "source": [
    "df['공급량'].describe()"
   ]
  },
  {
   "cell_type": "code",
   "execution_count": 19,
   "id": "7bef8641",
   "metadata": {},
   "outputs": [
    {
     "name": "stderr",
     "output_type": "stream",
     "text": [
      "C:\\Users\\coding\\anaconda3\\lib\\site-packages\\matplotlib\\backends\\backend_agg.py:238: RuntimeWarning: Glyph 44277 missing from current font.\n",
      "  font.set_text(s, 0.0, flags=flags)\n",
      "C:\\Users\\coding\\anaconda3\\lib\\site-packages\\matplotlib\\backends\\backend_agg.py:238: RuntimeWarning: Glyph 44553 missing from current font.\n",
      "  font.set_text(s, 0.0, flags=flags)\n",
      "C:\\Users\\coding\\anaconda3\\lib\\site-packages\\matplotlib\\backends\\backend_agg.py:238: RuntimeWarning: Glyph 47049 missing from current font.\n",
      "  font.set_text(s, 0.0, flags=flags)\n",
      "C:\\Users\\coding\\anaconda3\\lib\\site-packages\\matplotlib\\backends\\backend_agg.py:201: RuntimeWarning: Glyph 44277 missing from current font.\n",
      "  font.set_text(s, 0, flags=flags)\n",
      "C:\\Users\\coding\\anaconda3\\lib\\site-packages\\matplotlib\\backends\\backend_agg.py:201: RuntimeWarning: Glyph 44553 missing from current font.\n",
      "  font.set_text(s, 0, flags=flags)\n",
      "C:\\Users\\coding\\anaconda3\\lib\\site-packages\\matplotlib\\backends\\backend_agg.py:201: RuntimeWarning: Glyph 47049 missing from current font.\n",
      "  font.set_text(s, 0, flags=flags)\n"
     ]
    },
    {
     "data": {
      "image/png": "[encoded data removed]",
      "text/plain": [
       "<Figure size 432x288 with 1 Axes>"
      ]
     },
     "metadata": {
      "needs_background": "light"
     },
     "output_type": "display_data"
    }
   ],
   "source": [
    "x = df['공급량']\n",
    "plt.hist(x, density = True, bins = 20) # density = False 자료의 개수를 디스플레이함\n",
    "plt.ylabel('Count')\n",
    "plt.xlabel('공급량');"
   ]
  },
  {
   "cell_type": "code",
   "execution_count": 20,
   "id": "1b1e0996",
   "metadata": {},
   "outputs": [],
   "source": [
    "import seaborn as sns"
   ]
  },
  {
   "cell_type": "code",
   "execution_count": null,
   "id": "648742a0",
   "metadata": {},
   "outputs": [],
   "source": []
  },
  {
   "cell_type": "code",
   "execution_count": null,
   "id": "b119fd7d",
   "metadata": {},
   "outputs": [],
   "source": []
  },
  {
   "cell_type": "code",
   "execution_count": null,
   "id": "b9b2af6d",
   "metadata": {},
   "outputs": [],
   "source": []
  }
 ],
 "metadata": {
  "kernelspec": {
   "display_name": "Python 3",
   "language": "python",
   "name": "python3"
  },
  "language_info": {
   "codemirror_mode": {
    "name": "ipython",
    "version": 3
   },
   "file_extension": ".py",
   "mimetype": "text/x-python",
   "name": "python",
   "nbconvert_exporter": "python",
   "pygments_lexer": "ipython3",
   "version": "3.8.8"
  }
 },
 "nbformat": 4,
 "nbformat_minor": 5
}
