{
 "cells": [
  {
   "cell_type": "code",
   "execution_count": 1,
   "id": "27481ac1",
   "metadata": {},
   "outputs": [],
   "source": [
    "# apply() : 각 컬럼마다 수행, applymap() : 각 요소마다 적용"
   ]
  },
  {
   "cell_type": "code",
   "execution_count": 2,
   "id": "7a8f0ee6",
   "metadata": {},
   "outputs": [],
   "source": [
    "import numpy as np\n",
    "import pandas as pd"
   ]
  },
  {
   "cell_type": "code",
   "execution_count": 3,
   "id": "8d5084dc",
   "metadata": {},
   "outputs": [],
   "source": [
    "df = pd.read_csv('data/시간별 공급량_서기환.csv', encoding = 'cp949')"
   ]
  },
  {
   "cell_type": "code",
   "execution_count": 4,
   "id": "5f516ce2",
   "metadata": {},
   "outputs": [
    {
     "data": {
      "text/html": [
       "<div>\n",
       "<style scoped>\n",
       "    .dataframe tbody tr th:only-of-type {\n",
       "        vertical-align: middle;\n",
       "    }\n",
       "\n",
       "    .dataframe tbody tr th {\n",
       "        vertical-align: top;\n",
       "    }\n",
       "\n",
       "    .dataframe thead th {\n",
       "        text-align: right;\n",
       "    }\n",
       "</style>\n",
       "<table border=\"1\" class=\"dataframe\">\n",
       "  <thead>\n",
       "    <tr style=\"text-align: right;\">\n",
       "      <th></th>\n",
       "      <th>time</th>\n",
       "      <th>구분</th>\n",
       "      <th>공급량</th>\n",
       "    </tr>\n",
       "  </thead>\n",
       "  <tbody>\n",
       "    <tr>\n",
       "      <th>0</th>\n",
       "      <td>2013-01-01 01:00:00</td>\n",
       "      <td>A</td>\n",
       "      <td>2497.129</td>\n",
       "    </tr>\n",
       "    <tr>\n",
       "      <th>1</th>\n",
       "      <td>2013-01-01 02:00:00</td>\n",
       "      <td>A</td>\n",
       "      <td>2363.265</td>\n",
       "    </tr>\n",
       "    <tr>\n",
       "      <th>2</th>\n",
       "      <td>2013-01-01 03:00:00</td>\n",
       "      <td>A</td>\n",
       "      <td>2258.505</td>\n",
       "    </tr>\n",
       "    <tr>\n",
       "      <th>3</th>\n",
       "      <td>2013-01-01 04:00:00</td>\n",
       "      <td>A</td>\n",
       "      <td>2243.969</td>\n",
       "    </tr>\n",
       "    <tr>\n",
       "      <th>4</th>\n",
       "      <td>2013-01-01 05:00:00</td>\n",
       "      <td>A</td>\n",
       "      <td>2344.105</td>\n",
       "    </tr>\n",
       "    <tr>\n",
       "      <th>...</th>\n",
       "      <td>...</td>\n",
       "      <td>...</td>\n",
       "      <td>...</td>\n",
       "    </tr>\n",
       "    <tr>\n",
       "      <th>368083</th>\n",
       "      <td>2018-12-31 20:00:00</td>\n",
       "      <td>H</td>\n",
       "      <td>681.033</td>\n",
       "    </tr>\n",
       "    <tr>\n",
       "      <th>368084</th>\n",
       "      <td>2018-12-31 21:00:00</td>\n",
       "      <td>H</td>\n",
       "      <td>669.961</td>\n",
       "    </tr>\n",
       "    <tr>\n",
       "      <th>368085</th>\n",
       "      <td>2018-12-31 22:00:00</td>\n",
       "      <td>H</td>\n",
       "      <td>657.941</td>\n",
       "    </tr>\n",
       "    <tr>\n",
       "      <th>368086</th>\n",
       "      <td>2018-12-31 23:00:00</td>\n",
       "      <td>H</td>\n",
       "      <td>610.953</td>\n",
       "    </tr>\n",
       "    <tr>\n",
       "      <th>368087</th>\n",
       "      <td>2019-01-01 00:00:00</td>\n",
       "      <td>H</td>\n",
       "      <td>560.896</td>\n",
       "    </tr>\n",
       "  </tbody>\n",
       "</table>\n",
       "<p>368088 rows × 3 columns</p>\n",
       "</div>"
      ],
      "text/plain": [
       "                       time 구분       공급량\n",
       "0       2013-01-01 01:00:00  A  2497.129\n",
       "1       2013-01-01 02:00:00  A  2363.265\n",
       "2       2013-01-01 03:00:00  A  2258.505\n",
       "3       2013-01-01 04:00:00  A  2243.969\n",
       "4       2013-01-01 05:00:00  A  2344.105\n",
       "...                     ... ..       ...\n",
       "368083  2018-12-31 20:00:00  H   681.033\n",
       "368084  2018-12-31 21:00:00  H   669.961\n",
       "368085  2018-12-31 22:00:00  H   657.941\n",
       "368086  2018-12-31 23:00:00  H   610.953\n",
       "368087  2019-01-01 00:00:00  H   560.896\n",
       "\n",
       "[368088 rows x 3 columns]"
      ]
     },
     "execution_count": 4,
     "metadata": {},
     "output_type": "execute_result"
    }
   ],
   "source": [
    "df"
   ]
  },
  {
   "cell_type": "code",
   "execution_count": 5,
   "id": "5d771f4b",
   "metadata": {},
   "outputs": [
    {
     "data": {
      "text/html": [
       "<div>\n",
       "<style scoped>\n",
       "    .dataframe tbody tr th:only-of-type {\n",
       "        vertical-align: middle;\n",
       "    }\n",
       "\n",
       "    .dataframe tbody tr th {\n",
       "        vertical-align: top;\n",
       "    }\n",
       "\n",
       "    .dataframe thead th {\n",
       "        text-align: right;\n",
       "    }\n",
       "</style>\n",
       "<table border=\"1\" class=\"dataframe\">\n",
       "  <thead>\n",
       "    <tr style=\"text-align: right;\">\n",
       "      <th></th>\n",
       "      <th>공급량</th>\n",
       "    </tr>\n",
       "  </thead>\n",
       "  <tbody>\n",
       "    <tr>\n",
       "      <th>count</th>\n",
       "      <td>368088.000000</td>\n",
       "    </tr>\n",
       "    <tr>\n",
       "      <th>mean</th>\n",
       "      <td>948.100037</td>\n",
       "    </tr>\n",
       "    <tr>\n",
       "      <th>std</th>\n",
       "      <td>927.211578</td>\n",
       "    </tr>\n",
       "    <tr>\n",
       "      <th>min</th>\n",
       "      <td>1.378000</td>\n",
       "    </tr>\n",
       "    <tr>\n",
       "      <th>25%</th>\n",
       "      <td>221.973000</td>\n",
       "    </tr>\n",
       "    <tr>\n",
       "      <th>50%</th>\n",
       "      <td>637.014000</td>\n",
       "    </tr>\n",
       "    <tr>\n",
       "      <th>75%</th>\n",
       "      <td>1398.919000</td>\n",
       "    </tr>\n",
       "    <tr>\n",
       "      <th>max</th>\n",
       "      <td>11593.617000</td>\n",
       "    </tr>\n",
       "  </tbody>\n",
       "</table>\n",
       "</div>"
      ],
      "text/plain": [
       "                 공급량\n",
       "count  368088.000000\n",
       "mean      948.100037\n",
       "std       927.211578\n",
       "min         1.378000\n",
       "25%       221.973000\n",
       "50%       637.014000\n",
       "75%      1398.919000\n",
       "max     11593.617000"
      ]
     },
     "execution_count": 5,
     "metadata": {},
     "output_type": "execute_result"
    }
   ],
   "source": [
    "df.describe()"
   ]
  },
  {
   "cell_type": "code",
   "execution_count": 6,
   "id": "a0d38a09",
   "metadata": {},
   "outputs": [
    {
     "name": "stdout",
     "output_type": "stream",
     "text": [
      "['A' 'B' 'C' 'D' 'E' 'G' 'H']\n"
     ]
    }
   ],
   "source": [
    "print(df['구분'].unique())"
   ]
  },
  {
   "cell_type": "code",
   "execution_count": 7,
   "id": "9ecd0bed",
   "metadata": {},
   "outputs": [
    {
     "name": "stdout",
     "output_type": "stream",
     "text": [
      "구분\n",
      "A    1167.014483\n",
      "B     958.564621\n",
      "C     131.585481\n",
      "D     664.626452\n",
      "E    1395.356673\n",
      "G    2070.685900\n",
      "H     248.866646\n",
      "Name: 공급량, dtype: float64\n"
     ]
    }
   ],
   "source": [
    "print(df.groupby('구분')['공급량'].mean())"
   ]
  },
  {
   "cell_type": "code",
   "execution_count": 8,
   "id": "8ad8cce7",
   "metadata": {},
   "outputs": [
    {
     "name": "stdout",
     "output_type": "stream",
     "text": [
      "<class 'pandas.core.groupby.generic.DataFrameGroupBy'>\n",
      "<pandas.core.groupby.generic.DataFrameGroupBy object at 0x000001F1DA691250>\n"
     ]
    }
   ],
   "source": [
    "mygrouping = df.groupby('구분')\n",
    "print(type(mygrouping))\n",
    "\n",
    "print(mygrouping) # 메모리 주소값 출력"
   ]
  },
  {
   "cell_type": "code",
   "execution_count": 9,
   "id": "5f3206d7",
   "metadata": {},
   "outputs": [
    {
     "name": "stdout",
     "output_type": "stream",
     "text": [
      "<class 'pandas.core.groupby.generic.SeriesGroupBy'>\n"
     ]
    }
   ],
   "source": [
    "grp_demand = mygrouping['공급량']\n",
    "print(type(grp_demand))"
   ]
  },
  {
   "cell_type": "code",
   "execution_count": 10,
   "id": "d09cc965",
   "metadata": {
    "scrolled": true
   },
   "outputs": [
    {
     "name": "stdout",
     "output_type": "stream",
     "text": [
      "구분\n",
      "A    1167.014483\n",
      "B     958.564621\n",
      "C     131.585481\n",
      "D     664.626452\n",
      "E    1395.356673\n",
      "G    2070.685900\n",
      "H     248.866646\n",
      "Name: 공급량, dtype: float64\n"
     ]
    }
   ],
   "source": [
    "mean_demand = grp_demand.mean()\n",
    "print(mean_demand)"
   ]
  },
  {
   "cell_type": "markdown",
   "id": "0e68fdf5",
   "metadata": {},
   "source": [
    "# 시작"
   ]
  },
  {
   "cell_type": "code",
   "execution_count": 11,
   "id": "9fa925ab",
   "metadata": {},
   "outputs": [],
   "source": [
    "import numpy as np\n",
    "import pandas as pd\n",
    "import matplotlib.pyplot as plt"
   ]
  },
  {
   "cell_type": "code",
   "execution_count": 12,
   "id": "b8354c61",
   "metadata": {},
   "outputs": [],
   "source": [
    "plt.rc('font', family = 'Malgun Gothic')\n",
    "cnt, PNG, UNDERBAR = 0, '.png', '_'\n",
    "CHART_NAME = '시간별 가스 공급량'\n",
    "filename = 'data/시간별 공급량_서기환.csv'"
   ]
  },
  {
   "cell_type": "code",
   "execution_count": 13,
   "id": "838b9a6d",
   "metadata": {},
   "outputs": [],
   "source": [
    "data = pd.read_csv(filename, encoding = 'cp949')"
   ]
  },
  {
   "cell_type": "code",
   "execution_count": 14,
   "id": "a78db966",
   "metadata": {},
   "outputs": [
    {
     "name": "stdout",
     "output_type": "stream",
     "text": [
      "Index(['time', '구분', '공급량'], dtype='object')\n"
     ]
    }
   ],
   "source": [
    "print(data.columns)"
   ]
  },
  {
   "cell_type": "code",
   "execution_count": 15,
   "id": "e611f86c",
   "metadata": {},
   "outputs": [
    {
     "data": {
      "text/html": [
       "<div>\n",
       "<style scoped>\n",
       "    .dataframe tbody tr th:only-of-type {\n",
       "        vertical-align: middle;\n",
       "    }\n",
       "\n",
       "    .dataframe tbody tr th {\n",
       "        vertical-align: top;\n",
       "    }\n",
       "\n",
       "    .dataframe thead th {\n",
       "        text-align: right;\n",
       "    }\n",
       "</style>\n",
       "<table border=\"1\" class=\"dataframe\">\n",
       "  <thead>\n",
       "    <tr style=\"text-align: right;\">\n",
       "      <th></th>\n",
       "      <th>time</th>\n",
       "      <th>구분</th>\n",
       "      <th>공급량</th>\n",
       "    </tr>\n",
       "  </thead>\n",
       "  <tbody>\n",
       "    <tr>\n",
       "      <th>0</th>\n",
       "      <td>2013-01-01 01:00:00</td>\n",
       "      <td>A</td>\n",
       "      <td>2497.129</td>\n",
       "    </tr>\n",
       "    <tr>\n",
       "      <th>1</th>\n",
       "      <td>2013-01-01 02:00:00</td>\n",
       "      <td>A</td>\n",
       "      <td>2363.265</td>\n",
       "    </tr>\n",
       "    <tr>\n",
       "      <th>2</th>\n",
       "      <td>2013-01-01 03:00:00</td>\n",
       "      <td>A</td>\n",
       "      <td>2258.505</td>\n",
       "    </tr>\n",
       "    <tr>\n",
       "      <th>3</th>\n",
       "      <td>2013-01-01 04:00:00</td>\n",
       "      <td>A</td>\n",
       "      <td>2243.969</td>\n",
       "    </tr>\n",
       "    <tr>\n",
       "      <th>4</th>\n",
       "      <td>2013-01-01 05:00:00</td>\n",
       "      <td>A</td>\n",
       "      <td>2344.105</td>\n",
       "    </tr>\n",
       "    <tr>\n",
       "      <th>...</th>\n",
       "      <td>...</td>\n",
       "      <td>...</td>\n",
       "      <td>...</td>\n",
       "    </tr>\n",
       "    <tr>\n",
       "      <th>368083</th>\n",
       "      <td>2018-12-31 20:00:00</td>\n",
       "      <td>H</td>\n",
       "      <td>681.033</td>\n",
       "    </tr>\n",
       "    <tr>\n",
       "      <th>368084</th>\n",
       "      <td>2018-12-31 21:00:00</td>\n",
       "      <td>H</td>\n",
       "      <td>669.961</td>\n",
       "    </tr>\n",
       "    <tr>\n",
       "      <th>368085</th>\n",
       "      <td>2018-12-31 22:00:00</td>\n",
       "      <td>H</td>\n",
       "      <td>657.941</td>\n",
       "    </tr>\n",
       "    <tr>\n",
       "      <th>368086</th>\n",
       "      <td>2018-12-31 23:00:00</td>\n",
       "      <td>H</td>\n",
       "      <td>610.953</td>\n",
       "    </tr>\n",
       "    <tr>\n",
       "      <th>368087</th>\n",
       "      <td>2019-01-01 00:00:00</td>\n",
       "      <td>H</td>\n",
       "      <td>560.896</td>\n",
       "    </tr>\n",
       "  </tbody>\n",
       "</table>\n",
       "<p>368088 rows × 3 columns</p>\n",
       "</div>"
      ],
      "text/plain": [
       "                       time 구분       공급량\n",
       "0       2013-01-01 01:00:00  A  2497.129\n",
       "1       2013-01-01 02:00:00  A  2363.265\n",
       "2       2013-01-01 03:00:00  A  2258.505\n",
       "3       2013-01-01 04:00:00  A  2243.969\n",
       "4       2013-01-01 05:00:00  A  2344.105\n",
       "...                     ... ..       ...\n",
       "368083  2018-12-31 20:00:00  H   681.033\n",
       "368084  2018-12-31 21:00:00  H   669.961\n",
       "368085  2018-12-31 22:00:00  H   657.941\n",
       "368086  2018-12-31 23:00:00  H   610.953\n",
       "368087  2019-01-01 00:00:00  H   560.896\n",
       "\n",
       "[368088 rows x 3 columns]"
      ]
     },
     "execution_count": 15,
     "metadata": {},
     "output_type": "execute_result"
    }
   ],
   "source": [
    "data"
   ]
  },
  {
   "cell_type": "code",
   "execution_count": 16,
   "id": "1cd15040",
   "metadata": {},
   "outputs": [
    {
     "data": {
      "text/plain": [
       "G    52584\n",
       "E    52584\n",
       "A    52584\n",
       "H    52584\n",
       "C    52584\n",
       "B    52584\n",
       "D    52584\n",
       "Name: 구분, dtype: int64"
      ]
     },
     "execution_count": 16,
     "metadata": {},
     "output_type": "execute_result"
    }
   ],
   "source": [
    "data['구분'].value_counts()"
   ]
  },
  {
   "cell_type": "code",
   "execution_count": 17,
   "id": "1b79dfde",
   "metadata": {},
   "outputs": [],
   "source": [
    "data1 = data.iloc[0:52584]"
   ]
  },
  {
   "cell_type": "code",
   "execution_count": 18,
   "id": "edcdd219",
   "metadata": {},
   "outputs": [
    {
     "data": {
      "text/html": [
       "<div>\n",
       "<style scoped>\n",
       "    .dataframe tbody tr th:only-of-type {\n",
       "        vertical-align: middle;\n",
       "    }\n",
       "\n",
       "    .dataframe tbody tr th {\n",
       "        vertical-align: top;\n",
       "    }\n",
       "\n",
       "    .dataframe thead th {\n",
       "        text-align: right;\n",
       "    }\n",
       "</style>\n",
       "<table border=\"1\" class=\"dataframe\">\n",
       "  <thead>\n",
       "    <tr style=\"text-align: right;\">\n",
       "      <th></th>\n",
       "      <th>time</th>\n",
       "      <th>구분</th>\n",
       "      <th>공급량</th>\n",
       "    </tr>\n",
       "  </thead>\n",
       "  <tbody>\n",
       "    <tr>\n",
       "      <th>0</th>\n",
       "      <td>2013-01-01 01:00:00</td>\n",
       "      <td>A</td>\n",
       "      <td>2497.129</td>\n",
       "    </tr>\n",
       "    <tr>\n",
       "      <th>1</th>\n",
       "      <td>2013-01-01 02:00:00</td>\n",
       "      <td>A</td>\n",
       "      <td>2363.265</td>\n",
       "    </tr>\n",
       "    <tr>\n",
       "      <th>2</th>\n",
       "      <td>2013-01-01 03:00:00</td>\n",
       "      <td>A</td>\n",
       "      <td>2258.505</td>\n",
       "    </tr>\n",
       "    <tr>\n",
       "      <th>3</th>\n",
       "      <td>2013-01-01 04:00:00</td>\n",
       "      <td>A</td>\n",
       "      <td>2243.969</td>\n",
       "    </tr>\n",
       "    <tr>\n",
       "      <th>4</th>\n",
       "      <td>2013-01-01 05:00:00</td>\n",
       "      <td>A</td>\n",
       "      <td>2344.105</td>\n",
       "    </tr>\n",
       "    <tr>\n",
       "      <th>...</th>\n",
       "      <td>...</td>\n",
       "      <td>...</td>\n",
       "      <td>...</td>\n",
       "    </tr>\n",
       "    <tr>\n",
       "      <th>52579</th>\n",
       "      <td>2018-12-31 20:00:00</td>\n",
       "      <td>A</td>\n",
       "      <td>3040.868</td>\n",
       "    </tr>\n",
       "    <tr>\n",
       "      <th>52580</th>\n",
       "      <td>2018-12-31 21:00:00</td>\n",
       "      <td>A</td>\n",
       "      <td>2973.577</td>\n",
       "    </tr>\n",
       "    <tr>\n",
       "      <th>52581</th>\n",
       "      <td>2018-12-31 22:00:00</td>\n",
       "      <td>A</td>\n",
       "      <td>2840.272</td>\n",
       "    </tr>\n",
       "    <tr>\n",
       "      <th>52582</th>\n",
       "      <td>2018-12-31 23:00:00</td>\n",
       "      <td>A</td>\n",
       "      <td>2692.385</td>\n",
       "    </tr>\n",
       "    <tr>\n",
       "      <th>52583</th>\n",
       "      <td>2019-01-01 00:00:00</td>\n",
       "      <td>A</td>\n",
       "      <td>2583.340</td>\n",
       "    </tr>\n",
       "  </tbody>\n",
       "</table>\n",
       "<p>52584 rows × 3 columns</p>\n",
       "</div>"
      ],
      "text/plain": [
       "                      time 구분       공급량\n",
       "0      2013-01-01 01:00:00  A  2497.129\n",
       "1      2013-01-01 02:00:00  A  2363.265\n",
       "2      2013-01-01 03:00:00  A  2258.505\n",
       "3      2013-01-01 04:00:00  A  2243.969\n",
       "4      2013-01-01 05:00:00  A  2344.105\n",
       "...                    ... ..       ...\n",
       "52579  2018-12-31 20:00:00  A  3040.868\n",
       "52580  2018-12-31 21:00:00  A  2973.577\n",
       "52581  2018-12-31 22:00:00  A  2840.272\n",
       "52582  2018-12-31 23:00:00  A  2692.385\n",
       "52583  2019-01-01 00:00:00  A  2583.340\n",
       "\n",
       "[52584 rows x 3 columns]"
      ]
     },
     "execution_count": 18,
     "metadata": {},
     "output_type": "execute_result"
    }
   ],
   "source": [
    "data1"
   ]
  },
  {
   "cell_type": "code",
   "execution_count": 19,
   "id": "b5ee502a",
   "metadata": {},
   "outputs": [],
   "source": [
    "chartdata = data1['공급량']"
   ]
  },
  {
   "cell_type": "code",
   "execution_count": 20,
   "id": "d8e3612c",
   "metadata": {},
   "outputs": [
    {
     "name": "stdout",
     "output_type": "stream",
     "text": [
      "0        2497.129\n",
      "1        2363.265\n",
      "2        2258.505\n",
      "3        2243.969\n",
      "4        2344.105\n",
      "           ...   \n",
      "52579    3040.868\n",
      "52580    2973.577\n",
      "52581    2840.272\n",
      "52582    2692.385\n",
      "52583    2583.340\n",
      "Name: 공급량, Length: 52584, dtype: float64\n"
     ]
    }
   ],
   "source": [
    "print(chartdata)"
   ]
  },
  {
   "cell_type": "code",
   "execution_count": 21,
   "id": "90f8b3e5",
   "metadata": {},
   "outputs": [],
   "source": [
    "import seaborn as sns"
   ]
  },
  {
   "cell_type": "code",
   "execution_count": 26,
   "id": "2bebe187",
   "metadata": {},
   "outputs": [
    {
     "name": "stderr",
     "output_type": "stream",
     "text": [
      "C:\\Users\\coding\\anaconda3\\lib\\site-packages\\seaborn\\_decorators.py:36: FutureWarning: Pass the following variables as keyword args: x, y. From version 0.12, the only valid positional argument will be `data`, and passing other arguments without an explicit keyword will result in an error or misinterpretation.\n",
      "  warnings.warn(\n"
     ]
    },
    {
     "data": {
      "image/png": "[encoded data removed]",
      "text/plain": [
       "<Figure size 1440x360 with 1 Axes>"
      ]
     },
     "metadata": {
      "needs_background": "light"
     },
     "output_type": "display_data"
    }
   ],
   "source": [
    "plt.figure(figsize=(20,5))\n",
    "sns.lineplot('time', '공급량', data=data1, label='공급량')\n",
    "plt.xlabel('time', fontsize=20)\n",
    "plt.ylabel('공급량', fontsize=20)\n",
    "plt.legend(fontsize=20)\n",
    "plt.grid()"
   ]
  },
  {
   "cell_type": "code",
   "execution_count": 27,
   "id": "0071b045",
   "metadata": {},
   "outputs": [
    {
     "name": "stderr",
     "output_type": "stream",
     "text": [
      "C:\\Users\\coding\\anaconda3\\lib\\site-packages\\seaborn\\_decorators.py:36: FutureWarning: Pass the following variables as keyword args: x, y. From version 0.12, the only valid positional argument will be `data`, and passing other arguments without an explicit keyword will result in an error or misinterpretation.\n",
      "  warnings.warn(\n",
      "C:\\Users\\coding\\anaconda3\\lib\\site-packages\\seaborn\\_decorators.py:36: FutureWarning: Pass the following variables as keyword args: x, y. From version 0.12, the only valid positional argument will be `data`, and passing other arguments without an explicit keyword will result in an error or misinterpretation.\n",
      "  warnings.warn(\n",
      "C:\\Users\\coding\\anaconda3\\lib\\site-packages\\seaborn\\_decorators.py:36: FutureWarning: Pass the following variables as keyword args: x, y. From version 0.12, the only valid positional argument will be `data`, and passing other arguments without an explicit keyword will result in an error or misinterpretation.\n",
      "  warnings.warn(\n"
     ]
    },
    {
     "data": {
      "image/png": "[encoded data removed]",
      "text/plain": [
       "<Figure size 1440x360 with 1 Axes>"
      ]
     },
     "metadata": {
      "needs_background": "light"
     },
     "output_type": "display_data"
    }
   ],
   "source": [
    "plt.figure(figsize=(20,5))\n",
    "sns.lineplot('time', '공급량', data=data1, label='공급량')\n",
    "sns.lineplot(data1['time'], np.linspace(40, 60, len(data1['time'])), linewidth=5, color='r')\n",
    "sns.lineplot(data1['time'], np.linspace(57, 100, len(data1['time'])), linewidth=5, color='r')\n",
    "plt.xlabel('time', fontsize=20)\n",
    "plt.ylabel('공급량', fontsize=20)\n",
    "plt.legend(fontsize=20)\n",
    "plt.grid()"
   ]
  },
  {
   "cell_type": "code",
   "execution_count": 23,
   "id": "d4b0bd52",
   "metadata": {},
   "outputs": [
    {
     "data": {
      "text/plain": [
       "[<matplotlib.lines.Line2D at 0x1f19adb64c0>]"
      ]
     },
     "execution_count": 23,
     "metadata": {},
     "output_type": "execute_result"
    },
    {
     "data": {
      "image/png": "[encoded data removed]",
      "text/plain": [
       "<Figure size 432x288 with 1 Axes>"
      ]
     },
     "metadata": {
      "needs_background": "light"
     },
     "output_type": "display_data"
    }
   ],
   "source": [
    "plt.plot(chartdata, color = 'blue', linestyle = 'solid', marker = 'o')"
   ]
  },
  {
   "cell_type": "code",
   "execution_count": 24,
   "id": "dae6fdb1",
   "metadata": {},
   "outputs": [
    {
     "name": "stdout",
     "output_type": "stream",
     "text": [
      "<class 'numpy.ndarray'> ['A' 'B' 'C' 'D' 'E' 'G' 'H']\n"
     ]
    }
   ],
   "source": [
    "Firm = df['구분'].unique() \n",
    "Firm.sort() # array를 list로 바꾸기\n",
    "# Firm = sorted(Firm)\n",
    "print(type(Firm), Firm)"
   ]
  },
  {
   "cell_type": "code",
   "execution_count": 25,
   "id": "a3482364",
   "metadata": {},
   "outputs": [
    {
     "ename": "SyntaxError",
     "evalue": "invalid syntax (<ipython-input-25-8de01e7358fc>, line 2)",
     "output_type": "error",
     "traceback": [
      "\u001b[1;36m  File \u001b[1;32m\"<ipython-input-25-8de01e7358fc>\"\u001b[1;36m, line \u001b[1;32m2\u001b[0m\n\u001b[1;33m    ( data_{0} = df.query(\"구분 == {0}\") ), Firm\u001b[0m\n\u001b[1;37m           ^\u001b[0m\n\u001b[1;31mSyntaxError\u001b[0m\u001b[1;31m:\u001b[0m invalid syntax\n"
     ]
    }
   ],
   "source": [
    "for i in Firm:\n",
    "    ( data_{0} = df.query(\"구분 == {0}\") ), Firm"
   ]
  }
 ],
 "metadata": {
  "kernelspec": {
   "display_name": "Python 3",
   "language": "python",
   "name": "python3"
  },
  "language_info": {
   "codemirror_mode": {
    "name": "ipython",
    "version": 3
   },
   "file_extension": ".py",
   "mimetype": "text/x-python",
   "name": "python",
   "nbconvert_exporter": "python",
   "pygments_lexer": "ipython3",
   "version": "3.8.8"
  }
 },
 "nbformat": 4,
 "nbformat_minor": 5
}
